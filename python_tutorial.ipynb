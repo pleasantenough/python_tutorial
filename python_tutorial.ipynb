{
 "cells": [
  {
   "cell_type": "markdown",
   "metadata": {},
   "source": [
    "# Comment faire des graphiques pour les rapports?"
   ]
  },
  {
   "cell_type": "markdown",
   "metadata": {},
   "source": [
    "Le but de ce notebook c'est principalement de comprendre que si t'essayes de trouver une manière de faire un truc en python, il y a probablement déjà une fonction et une librarie qui fait exactement ce que tu veux faire. La documentation est ta meilleure amie.\n",
    "\n",
    "Si tu es sur VS Code, tu peux collapser chaque point en cliquant sur la flèche à côté de chaque titre de section. C'est beaucoup plus facile de retrouver un truc plus tard comme ça.\n",
    "\n",
    "_**Attention! — Pour que le tuto marche bien, il faut mettre le fichier avec les données (\"data.csv\") dans le même dossier dans ton ordi que le fichier python du tuto (\"python_tutorial.ipynb\").**_"
   ]
  },
  {
   "cell_type": "markdown",
   "metadata": {},
   "source": [
    "Documentation links :\n",
    "- matplotlib documentation: https://matplotlib.org/stable/users/index.html\n",
    "- matplotlib cheatsheets (very good resource): https://matplotlib.org/cheatsheets/cheatsheets.pdf\n",
    "- numpy documentation: https://numpy.org/doc/2.0/\n",
    "- scipy documentation: https://docs.scipy.org/doc/scipy/\n",
    "- uncertainties documentation: https://pythonhosted.org/uncertainties/user_guide.html\n",
    "- Pour installer Latex: https://www.latex-project.org/get/ OR https://www.tug.org/texlive/"
   ]
  },
  {
   "cell_type": "markdown",
   "metadata": {},
   "source": [
    "## 1. Importer les libraries nécessaires"
   ]
  },
  {
   "cell_type": "markdown",
   "metadata": {},
   "source": [
    "Pour tout installer comme testé: `pip install numpy==2.0.1 matplotlib==3.9.2 scipy==1.14.1 uncertainties==3.2.2 ipykernel`\n",
    "\n",
    "À mettre au début de chaque fichier python :"
   ]
  },
  {
   "cell_type": "code",
   "execution_count": 1,
   "metadata": {},
   "outputs": [],
   "source": [
    "import numpy as np  # pour manipuler des np.array() (vecteurs)\n",
    "import matplotlib.pyplot as plt  # pour pouvoir faire des graphiques\n",
    "import scipy as sc  # pour des fits arbitraires"
   ]
  },
  {
   "cell_type": "markdown",
   "metadata": {},
   "source": [
    "## 2. Définir des paramètres"
   ]
  },
  {
   "cell_type": "markdown",
   "metadata": {},
   "source": [
    "On peut modifier au début du programme les paramètres généraux que matplotlib va utiliser pour tous les graphiques en output. C'est utile de les définir une fois pour toutes. \n",
    "\n",
    "À mettre au début de chaque fichier python :"
   ]
  },
  {
   "cell_type": "code",
   "execution_count": 2,
   "metadata": {},
   "outputs": [],
   "source": [
    "plt.rcParams.update(\n",
    "    {\n",
    "        \"text.usetex\" : True, # utiliser police latex, mais il faut installer latex pour que la commande marche, sinon tout le code crash\n",
    "                              # dcp si tu l'as pas enlève les trois premières lignes des configs ici pls\n",
    "        \"font.family\": \"serif\", # latex aussi\n",
    "        \"text.latex.preamble\": \"\\n\".join([\n",
    "            r\"\\setlength{\\parindent}{0pt}\"  # ne pas indenter les paragraphes latex\n",
    "        ]),\n",
    "\n",
    "        \"font.size\": 12,  # taille par défaut de la police, pour tout\n",
    "        \"axes.labelsize\": 12,  # redefinit la taille pour la legende des axes\n",
    "        \"legend.fontsize\": 12,  # pareil pour la legende, ajuster en function de la place et du contenu\n",
    "        \"xtick.labelsize\": 12,  # taille numerotation des axes\n",
    "        \"ytick.labelsize\": 12,  # pareil\n",
    "        \"figure.figsize\": (3.9, 2.925),  # taille de la figure en pouces, correspond a 1/2 page horizontalement et une certaine valeur verticalement\n",
    "\n",
    "        'lines.markersize': 12,  # des plus gros markeurs pour les scatterplot (il faut les mettre plus grands que tu penses)\n",
    "        'errorbar.capsize': 3,  # taille des bords des barres d'erreurs, evite de se repeter a chaque fois\n",
    "\n",
    "        \"savefig.bbox\" : \"tight\", # quand tu sauvegardes les graphes à la fin ça assure que tu coupes pas des parties de l'image\n",
    "        \"legend.framealpha\" : 1, # légende opaque sur les graphes\n",
    "        \"axes.grid\" : 1  # met des quadrillages sur les graphes\n",
    "    } \n",
    ")"
   ]
  },
  {
   "cell_type": "markdown",
   "metadata": {},
   "source": [
    "## 3. Load the data"
   ]
  },
  {
   "cell_type": "markdown",
   "metadata": {},
   "source": [
    "Ouvrir le fichier .csv :"
   ]
  },
  {
   "cell_type": "code",
   "execution_count": 3,
   "metadata": {},
   "outputs": [],
   "source": [
    "delimiter = ','\n",
    "n = 1\n",
    "\n",
    "# np.loadtxt() – met les données de \"data.csv\" dans une liste \"data\"\n",
    "# delimiter – définit ce qui sépare chaque élément dans le fichier de données, dans notre cas une virgule\n",
    "# skiprows – définit le nombre de rangées à sauter au début du fichier texte\n",
    "data = np.loadtxt(\"data.csv\", delimiter=delimiter, skiprows=n) "
   ]
  },
  {
   "cell_type": "markdown",
   "metadata": {},
   "source": [
    "Définir les grandeurs à analyser et plotter :\n",
    "\n",
    "Lien utile : [manipulations de numpy arrays](https://jakevdp.github.io/PythonDataScienceHandbook/02.02-the-basics-of-numpy-arrays.html)"
   ]
  },
  {
   "cell_type": "code",
   "execution_count": 4,
   "metadata": {},
   "outputs": [],
   "source": [
    "# data[:,0] prend tous les élements dans la première colonne du array data qui a 2 dimensions\n",
    "x = data[:,0]\n",
    "y = data[:,1]"
   ]
  },
  {
   "cell_type": "markdown",
   "metadata": {},
   "source": [
    "Voir / verifier le contenu :"
   ]
  },
  {
   "cell_type": "code",
   "execution_count": null,
   "metadata": {},
   "outputs": [],
   "source": [
    "# tout ce qui est en fin de cellule est affiché automatiquement\n",
    "data, x, y"
   ]
  },
  {
   "cell_type": "markdown",
   "metadata": {},
   "source": [
    "## 4. Graph the data"
   ]
  },
  {
   "cell_type": "markdown",
   "metadata": {},
   "source": [
    "Il y a des fonctions différentes pour créer des plots. La plus commune et la plus génerale est `plt.plot`. Pour un nuage de points `plt.scatter`.\n",
    "\n",
    "Documentation: https://matplotlib.org/stable/api/_as_gen/matplotlib.pyplot.plot.html"
   ]
  },
  {
   "cell_type": "code",
   "execution_count": null,
   "metadata": {},
   "outputs": [],
   "source": [
    "# graphique avec les configurations de défaut + les paramètres qu'on a définit au début\n",
    "plt.plot(x, y) "
   ]
  },
  {
   "cell_type": "markdown",
   "metadata": {},
   "source": [
    "Regarder la documentation `plt.plot` et / ou les cheatsheets matplotlib pour les modifications de couleur etc. parce que the possibilities are endless. Tu peux faire tout ce que tu veux. Par exemple, changer la taille des points et la couleur :"
   ]
  },
  {
   "cell_type": "code",
   "execution_count": null,
   "metadata": {},
   "outputs": [],
   "source": [
    "ms = 10\n",
    "# ms stands for markersize\n",
    "# 'r.' – r means red, . means points\n",
    "plt.plot(x, y, 'r.', ms=ms) "
   ]
  },
  {
   "cell_type": "markdown",
   "metadata": {},
   "source": [
    "Puis, on peut afficher une légende. \n",
    "\n",
    "Documentation: https://matplotlib.org/stable/api/_as_gen/matplotlib.pyplot.legend.html"
   ]
  },
  {
   "cell_type": "code",
   "execution_count": null,
   "metadata": {},
   "outputs": [],
   "source": [
    "ms = 10\n",
    "plt.plot(x, y, 'r.', ms=ms, label='Data')\n",
    "plt.legend()"
   ]
  },
  {
   "cell_type": "markdown",
   "metadata": {},
   "source": [
    "**J'AI OUBLIÉ DE LABEL MES AXES => IVA VA ME TUER**"
   ]
  },
  {
   "cell_type": "code",
   "execution_count": null,
   "metadata": {},
   "outputs": [],
   "source": [
    "ms = 10 \n",
    "plt.plot(x, y, '.', ms=ms, label='Data')\n",
    "plt.legend()\n",
    "# règles de formattage: grandeur en italiques, mais son unité non\n",
    "# tout ce qui est entre `$ ... $` va etre formatté en latex.\n",
    "# ATTENTION: les erreurs de latex sont souvent très obscures a decoder (voir prochaine cellule)\n",
    "plt.xlabel('$x$ [x unité]')\n",
    "plt.ylabel('$y$ [y unité]')\n",
    "\n",
    "# plt.savefig – sauvegarde le graphe en pdf sous le nom \"image.pdf\"\n",
    "# C'est joli les pdfs parce que c'est jamais pixelé\n",
    "# Le format .png est utile pour des figures avec BEAUCOUP de donneés\n",
    "plt.savefig('image.pdf')"
   ]
  },
  {
   "cell_type": "markdown",
   "metadata": {},
   "source": [
    "Quelques conseils pour le latex dans les plots / sur python :"
   ]
  },
  {
   "cell_type": "code",
   "execution_count": null,
   "metadata": {},
   "outputs": [],
   "source": [
    "# Pour les strings avec du latex, le plus facile est de mettre un `r` au debut (les \\ posent des problèmes autrement)\n",
    "r\"$\\LaTeX$ is fun (no)\"\n",
    "\n",
    "# Si on veut formatter automatiquement, il faut faire attention aux {}:\n",
    "# pour mettre un \"{\", il faut tapper \"{{\"\n",
    "a = 1\n",
    "b = 3\n",
    "# Ces 3 strings sont equivalents\n",
    "f\"$\\\\frac{{{a}}}{{{b}}}$\" == r\"$\\frac{1}{3}$\" == r\"$\\frac{{{}}}{{{}}}$\".format(a, b)"
   ]
  },
  {
   "cell_type": "code",
   "execution_count": null,
   "metadata": {},
   "outputs": [],
   "source": [
    "# Erreur obscure a savoir reconnaitre\n",
    "plt.xlabel(r\"$\\invalide$ [u.a.]\")\n",
    "# Error in callback <function _draw_all_if_interactive at 0x7f4f1571f9c0> (for post_execute), with arguments args (),kwargs {}:"
   ]
  },
  {
   "cell_type": "markdown",
   "metadata": {},
   "source": [
    "## 5. Analyse des données"
   ]
  },
  {
   "cell_type": "markdown",
   "metadata": {},
   "source": [
    "### 5.1. Faire un fit"
   ]
  },
  {
   "cell_type": "markdown",
   "metadata": {},
   "source": [
    "La méthode la plus facile et commune est np.polyfit().\n",
    "\n",
    "Documentation: https://numpy.org/doc/stable/reference/generated/numpy.polyfit.html"
   ]
  },
  {
   "cell_type": "code",
   "execution_count": 12,
   "metadata": {},
   "outputs": [],
   "source": [
    "degree_of_fit = 1 # 1 pour un fit linéaire, 2 pour quadratique etc.\n",
    "polynome_output, matrice_covariante = np.polyfit(x, y, deg=degree_of_fit, cov=True)\n",
    "\n",
    "# polynome_output contient [a,b] t.q. y = a*x+b pour data données en argument à la fonction\n",
    "a = polynome_output[0]\n",
    "b = polynome_output[1]"
   ]
  },
  {
   "cell_type": "markdown",
   "metadata": {},
   "source": [
    "Les erreurs sur les coefficients sont dans la racine des éléments dans la diagonale"
   ]
  },
  {
   "cell_type": "code",
   "execution_count": 13,
   "metadata": {},
   "outputs": [],
   "source": [
    "# soit\n",
    "da = np.sqrt(matrice_covariante[0][0])\n",
    "db = np.sqrt(matrice_covariante[1][1])\n",
    "\n",
    "# ou encore plus court:\n",
    "da, db = np.sqrt(np.diag(matrice_covariante))"
   ]
  },
  {
   "cell_type": "markdown",
   "metadata": {},
   "source": [
    "Pour plot le fit avec les données :"
   ]
  },
  {
   "cell_type": "code",
   "execution_count": null,
   "metadata": {},
   "outputs": [],
   "source": [
    "ms = 10\n",
    "plt.plot(x, y, '.', ms=ms, label='Data')\n",
    "\n",
    "# plot le fit\n",
    "# np.linspace() – crée un array de 10 éléments distribués uniformément dans l'intervalle [x[0], x[-1]]\n",
    "truc = np.linspace(x[0], x[-1], 10) \n",
    "plt.plot(truc, a*truc+b, 'r--', label='Fit') \n",
    "\n",
    "# il faut généralement écrire l'équation du fit en légende\n",
    "# en général je plotte le fit en pointillé et dans une couleur difƒérente – Lucia\n",
    "# je préfere perso les mettre en soit en noir ('k--'), soit la couleur des points fittés s'il y plusieurs fits – Tom\n",
    "\n",
    "plt.legend()\n",
    "plt.xlabel('$x$ [x unité]')\n",
    "plt.ylabel('$y$ [y unité]')"
   ]
  },
  {
   "cell_type": "markdown",
   "metadata": {},
   "source": [
    "Les assistants ont des opinions différentes sur les conventions d'écrire l'équation d'un fit. Le plus safe c'est de l'écrire avec x et y :"
   ]
  },
  {
   "cell_type": "code",
   "execution_count": null,
   "metadata": {},
   "outputs": [],
   "source": [
    "# sans latex\n",
    "plt.plot(x, y, '.', label='Data')\n",
    "\n",
    "truc = np.linspace(x[0], x[-1], 10)\n",
    "plt.plot(truc, a*truc+b, 'r--', label='y = (a+-da)x+(b+-db)') \n",
    "\n",
    "# ATTENTION: LA LEGENDE OVERLAP ICI PAS BIEN POUR RAPPORTS\n",
    "plt.legend()\n",
    "plt.xlabel('$x$ [x unité]')\n",
    "plt.ylabel('$y$ [y unité]')"
   ]
  },
  {
   "cell_type": "code",
   "execution_count": null,
   "metadata": {},
   "outputs": [],
   "source": [
    "# avec latex\n",
    "plt.plot(x, y, '.', label='Data')\n",
    "truc = np.linspace(x[0], x[-1], 10)\n",
    "\n",
    "# soit mettre directement les valeurs dans la légende\n",
    "plt.plot(truc, a*truc+b, 'r--', label=r'$y = (a \\pm da)x+(b \\pm db)$')\n",
    "# soit laisser python le faire\n",
    "plt.plot(truc, a*truc+b, 'r--', label=r'$y = ({:.1f} \\pm {:.1f})x+({:.1f} \\pm {:.1f})$'.format(a, da, b, db))\n",
    "\n",
    "# ATTENTION: LA LEGENDE OVERLAP ICI PAS BIEN POUR RAPPORTS\n",
    "# voir partie 6.1.6 pour bouger la légende\n",
    "plt.legend()\n",
    "plt.xlabel('$x$ [x unité]')\n",
    "plt.ylabel('$y$ [y unité]')"
   ]
  },
  {
   "cell_type": "markdown",
   "metadata": {},
   "source": [
    "### 5.2. Plusieurs fits au même temps"
   ]
  },
  {
   "cell_type": "code",
   "execution_count": null,
   "metadata": {},
   "outputs": [],
   "source": [
    "degree_of_fit = 1\n",
    "\n",
    "# partie linéaire\n",
    "polynome_output, matrice_covariante = np.polyfit(x[0:4], y[0:4], deg=degree_of_fit, cov=True)\n",
    "# partie non linéaire dcp un peu con de faire un fit linéaire mais bon\n",
    "polynome_output2, matrice_covariante2 = np.polyfit(x[4:-1], y[4:-1], deg=degree_of_fit, cov=True)\n",
    "\n",
    "a, b = polynome_output\n",
    "a2, b2 = polynome_output2\n",
    "\n",
    "da, db = np.sqrt(np.diag(matrice_covariante))\n",
    "da2, db2 = np.sqrt(np.diag(matrice_covariante2))\n",
    "\n",
    "truc = np.linspace(x[0], x[4], 10)\n",
    "truc2 = np.linspace(x[4], x[-1], 10)\n",
    "\n",
    "plt.plot(x, y, '.', ms=15, label=\"Data\")\n",
    "plt.plot(truc, a*truc+b, 'r--', label='Fit sur la partie linéaire')\n",
    "plt.plot(truc2, a2*truc2+b2, 'g--', label='Fit sur la partie non-linéaire')\n",
    "\n",
    "# ATTENTION: LA LEGENDE OVERLAP ICI PAS BIEN POUR RAPPORTS\n",
    "# Labo c'est 4 heures par semaine de tps et 40 heures par jour d'essayer de faire des jolis graphiques – Lucia\n",
    "plt.legend()\n",
    "plt.xlabel('$x$ [x unité]')\n",
    "plt.ylabel('$y$ [y unité]')"
   ]
  },
  {
   "cell_type": "markdown",
   "metadata": {},
   "source": [
    "### 5.3. Faire un fit arbitraire"
   ]
  },
  {
   "cell_type": "markdown",
   "metadata": {},
   "source": [
    "De temps en temps il faut faire un fit d'une fonction spéciale sur tes résultats, genre des $A e^{-\\lambda t}\\cos(\\omega t + \\varphi)$"
   ]
  },
  {
   "cell_type": "code",
   "execution_count": null,
   "metadata": {},
   "outputs": [],
   "source": [
    "fake_data_x = np.linspace(0, 10, 100)\n",
    "fake_data_y = 5 * np.exp(-0.15 * fake_data_x) * np.cos(1.23 * fake_data_x + np.pi/6) + (np.random.random(fake_data_x.shape) - 0.5) * 2\n",
    "plt.scatter(fake_data_x, fake_data_y, marker='+')\n",
    "\n",
    "# fonction à fitter\n",
    "# !! lambda est un mot reservé !!\n",
    "def func_to_fit(t, A, lmbda, omega, phi):\n",
    "    return A * np.exp(-lmbda * t) * np.cos(omega * t + phi)\n",
    "\n",
    "# faire le fit\n",
    "coefs, cov = sc.optimize.curve_fit(func_to_fit, fake_data_x, fake_data_y)\n",
    "A, lmbda, omega, phi = coefs\n",
    "dA, dLmbda, dOmega, dPhi = np.sqrt(np.diag(cov))\n",
    "fitx = np.linspace(0, 10, 25)\n",
    "# *coefs met tous les coefs au bon endroit dans l'appel, equivalent a faire `A, lmbda, omega, phi`\n",
    "fity = func_to_fit(fitx, *coefs) \n",
    "\n",
    "# bien mettre la fonction dans la legende / le latex. pour les retours a la ligne: \"\\\\\".\n",
    "# oui c'est chiant a tapper. non il n'y a pas vraiment de meilleure option – Tom\n",
    "plt.plot(\n",
    "    fitx, fity, 'k--',\n",
    "    label=r\"$y = ({:.1f} \\pm {:.1f}) e^{{({:.1f} \\pm {:.1f}) x}} \\\\ \\times \\cos(({:.1f} \\pm {:.1f}) x + ({:.1f} \\pm {:.1f}))$\".format(A, dA, lmbda, dLmbda, omega, dOmega, phi, dPhi)\n",
    ")\n",
    "\n",
    "# pour eviter que la legende overlap, il faut bidouiller encore une fois\n",
    "plt.ylim(-5, 8.2)\n",
    "plt.legend()"
   ]
  },
  {
   "cell_type": "markdown",
   "metadata": {},
   "source": [
    "### 5.4. Barres d'erreur (!!!! Important !!!!)"
   ]
  },
  {
   "cell_type": "markdown",
   "metadata": {},
   "source": [
    "Documentation: https://matplotlib.org/stable/api/_as_gen/matplotlib.pyplot.errorbar.html\n",
    "\n",
    "Si t'as une erreur connue tu dois la mettre. Les seules exceptions sont :\n",
    "1. si elle est pas visible ou \n",
    "2. si elle est constante. \n",
    "\n",
    "C'est cool de mettre les barres si elles sont visibles, juste parce que it shows that you care. – Lucia\n",
    "\n",
    "Sinon, les phrases typiques dans les rapports : *\"Les erreurs sur les données étaient constantes à {valeur}. Donc, elles ne figurent pas sur le graphique.\"* / *\"Les barres d'erreur sur les données ne sont pas visibles. Donc, elles ne figurent pas sur les graphiques.\"* / *\"Par souci de clarté, les barres d'erreurs sont omises sur ce graphique.\"*"
   ]
  },
  {
   "cell_type": "code",
   "execution_count": null,
   "metadata": {},
   "outputs": [],
   "source": [
    "# fit\n",
    "degree_of_fit = 1\n",
    "polynome_output, matrice_covariante = np.polyfit(x, y, deg=degree_of_fit, cov=True)\n",
    "a, b = polynome_output\n",
    "da, db = np.sqrt(np.diag(matrice_covariante))\n",
    "\n",
    "# erreurs\n",
    "erreur_x = 0.2 # par exemple\n",
    "erreur_y = 0.5\n",
    "# défini un array de la même taille que x avec des 1s dans chaque position, \n",
    "# et après on multiplie par la valeur de l'erreur\n",
    "dx = erreur_x*np.ones_like(x)\n",
    "dy = erreur_y*np.ones_like(y)\n",
    "\n",
    "# plot \n",
    "# capsize controle la taille des petites barres au bouts (\"caps\")\n",
    "# ordre d'arguments un peu fucked mais oui c'est plt.errorbar(x, y, erreur de y, erreur de x, ...)\n",
    "# souvent on s'en tape de l'erreur en x par contre, tu peux juste enlever \"dx\" dans ce cas\n",
    "plt.errorbar(x, y, dy, dx, '+', capsize=3, ms=15, mew=2, label='Data') \n",
    "truc = np.linspace(x[0], x[-1], 10)\n",
    "plt.plot(truc, a*truc+b, 'r--', label=r'$y = (a\\pm da)+(b \\pm db)$')\n",
    "plt.legend()\n",
    "plt.xlabel('$x$ [x unité]')\n",
    "plt.ylabel('$y$ [y unité]')"
   ]
  },
  {
   "cell_type": "markdown",
   "metadata": {},
   "source": [
    "Pour les erreurs qui varient, mais c'est de la stat ça devrait être logique :"
   ]
  },
  {
   "cell_type": "code",
   "execution_count": null,
   "metadata": {},
   "outputs": [],
   "source": [
    "# fit\n",
    "degree_of_fit = 1\n",
    "polynome_output, matrice_covariante = np.polyfit(x, y, deg=degree_of_fit, cov=True)\n",
    "a, b = polynome_output\n",
    "da, db = np.sqrt(np.diag(matrice_covariante))\n",
    "\n",
    "# erreurs\n",
    "erreur_relative_x = 0.1 # par exemple\n",
    "erreur_relative_y = 0.1\n",
    "dx = erreur_x*np.ones_like(x)*x\n",
    "dy = erreur_y*np.ones_like(y)*y\n",
    "\n",
    "# plot\n",
    "plt.errorbar(x, y, dy, dx, '+', capsize=3, ms=15, mew=2, label='Data')\n",
    "truc = np.linspace(x[0], x[-1], 10)\n",
    "plt.plot(truc, a*truc+b, 'r--', label=r'$y = (a\\pm da)+(b \\pm db)$')\n",
    "plt.legend()\n",
    "plt.xlabel('$x$ [x unité]')\n",
    "plt.ylabel('$y$ [y unité]')\n"
   ]
  },
  {
   "cell_type": "markdown",
   "metadata": {},
   "source": [
    "Ces barres d'erreurs sont un peu extrèmes, vérifier avec d'anciens rapports / demander à l'assistant"
   ]
  },
  {
   "cell_type": "markdown",
   "metadata": {},
   "source": [
    "## 6. Fonctions intéressantes"
   ]
  },
  {
   "cell_type": "markdown",
   "metadata": {},
   "source": [
    "### 6.1. Graphiques"
   ]
  },
  {
   "cell_type": "markdown",
   "metadata": {},
   "source": [
    "#### 6.1.1. Limites des axes"
   ]
  },
  {
   "cell_type": "markdown",
   "metadata": {},
   "source": [
    "Documentation: https://matplotlib.org/stable/api/_as_gen/matplotlib.pyplot.xlim.html\n",
    "\n",
    "Pour controller où tu veux couper le graphique `plt.xlim()`, `plt.ylim()`. Si tu veux que montrer jusqu'à 5m dans l'échelle de l'axe x tu fais:   plt.xlim(0,5)"
   ]
  },
  {
   "cell_type": "code",
   "execution_count": null,
   "metadata": {},
   "outputs": [],
   "source": [
    "# exemple\n",
    "plt.errorbar(x, y, dy, dx, '+', capsize=3, ms=15, mew=2, label='Data')\n",
    "truc = np.linspace(x[0], x[-1], 10)\n",
    "plt.plot(truc, a*truc+b, 'r--', label=r'$y = (a\\pm da)+(b \\pm db)$')\n",
    "plt.legend()\n",
    "plt.xlabel('$x$ [x unité]')\n",
    "plt.ylabel('$y$ [y unité]')\n",
    "\n",
    "plt.xlim(0, 6)\n",
    "plt.ylim(0, 8)"
   ]
  },
  {
   "cell_type": "markdown",
   "metadata": {},
   "source": [
    "#### 6.1.2. Tracer des droites facilement"
   ]
  },
  {
   "cell_type": "markdown",
   "metadata": {},
   "source": [
    "Documentation axhline (horizontal): https://matplotlib.org/stable/api/_as_gen/matplotlib.pyplot.axhline.html\n",
    "\n",
    "Documentation axvline (vertical): https://matplotlib.org/stable/api/_as_gen/matplotlib.pyplot.axvline.html"
   ]
  },
  {
   "cell_type": "code",
   "execution_count": null,
   "metadata": {},
   "outputs": [],
   "source": [
    "plt.plot(x, y)\n",
    "plt.axvline(5, color='k')\n",
    "plt.axhline(10, color='r')"
   ]
  },
  {
   "cell_type": "markdown",
   "metadata": {},
   "source": [
    "#### 6.1.3. Scientific format for axis"
   ]
  },
  {
   "cell_type": "markdown",
   "metadata": {},
   "source": [
    "\n",
    "Documentation: https://matplotlib.org/stable/api/_as_gen/matplotlib.axes.Axes.ticklabel_format.html\n",
    "\n",
    "`plt.ticklabel_format(axis='y', style='sci', scilimits=(0,0), useOffset=False)` --> puts y axis ticks in scientific format"
   ]
  },
  {
   "cell_type": "code",
   "execution_count": null,
   "metadata": {},
   "outputs": [],
   "source": [
    "data_x = np.linspace(0, 10)\n",
    "data_y = np.exp(data_x)\n",
    "plt.plot(data_x, data_y)\n",
    "plt.ticklabel_format(axis='y', style='sci', scilimits=(0,0), useOffset=False)"
   ]
  },
  {
   "cell_type": "markdown",
   "metadata": {},
   "source": [
    "#### 6.1.4. Echelle logarithmique"
   ]
  },
  {
   "cell_type": "markdown",
   "metadata": {},
   "source": [
    "Documentation: https://matplotlib.org/stable/users/explain/axes/axes_scales.html\n",
    "\n",
    "de temps en temps il faut montrer une relation exponentielle et non linéaire pour tes datas, alors pour faire un plot avec echelle logarithmique.\n",
    "\n",
    "`plt.loglog(x, y, ...)` ou `plt.semilogx(x, y, ...)` (pour l'axe x en log) ou `plt.semilogy(x, y, ...)` (tu comprends) ou `plt.yscale('log')`"
   ]
  },
  {
   "cell_type": "code",
   "execution_count": null,
   "metadata": {},
   "outputs": [],
   "source": [
    "plt.plot(data_x, data_y)\n",
    "plt.yscale('log')\n",
    "# ou, memes arguments que plt.plot\n",
    "plt.semilogy(data_x, data_y, '--')"
   ]
  },
  {
   "cell_type": "markdown",
   "metadata": {},
   "source": [
    "#### 6.1.5. Comment trouver un point graphiquement? petit tuto"
   ]
  },
  {
   "cell_type": "markdown",
   "metadata": {},
   "source": [
    "\n",
    "En mettant une couleur différente pour une partie limité des points, on peut trouver l'indice dans l'array d'un certain point.\n",
    "\n",
    "C'est particulièrement utile si t'essayes de trouver l'indice d'un point pour une certaine valeur et t'as des centaines de points."
   ]
  },
  {
   "cell_type": "code",
   "execution_count": null,
   "metadata": {},
   "outputs": [],
   "source": [
    "ms = 12\n",
    "# change ça à 4 ou 9 par exemple, pour voir ce que je veux dire\n",
    "n = 6\n",
    "plt.plot(x, y, '.', ms=ms)\n",
    "plt.plot(x[:n], y[:n], 'r.', ms=ms) "
   ]
  },
  {
   "cell_type": "markdown",
   "metadata": {},
   "source": [
    "#### 6.1.6. Placer et déplacer la légende"
   ]
  },
  {
   "cell_type": "markdown",
   "metadata": {},
   "source": [
    "Pour le placement de la légende, faire attention a ne pas recouvrir les données. Le meilleur est d'utiliser le cheatsheet pour toutes les infos.\n",
    "\n",
    "Techniques possibles:\n",
    "1. Séparer le texte sur plusieurs lignes (retour à la ligne `\"\\n\"`, dans LaTeX `\"\\\\\"`)\n",
    "2. Changer le `ylim`\n",
    "3. Mettre la légende en dehors de la figure, utiliser le cheatsheet pour ca (dépend de l'assistant)\n",
    "4. Agrandir la figure dans le rapport et changer le `figsize` avec `plt.figure(figsize=(6, 4))` au début de la cellule\n",
    "5. Réduire la taille des marqueurs avec les arguments `handlelength`, `handletextpad`, `labelspacing`, `borderpad`\n",
    "6. Mettre en plusieurs colonnes avec l'argument `ncols`"
   ]
  },
  {
   "cell_type": "code",
   "execution_count": null,
   "metadata": {},
   "outputs": [],
   "source": [
    "# exemple 1, 3 et 5\n",
    "plt.plot(x, y, label=\"Une très grosse légende pour ce plot \\n comme démonstration\")\n",
    "plt.plot(x, 5+1/y*5, label=\"Données 2\")\n",
    "plt.legend(loc='lower left', bbox_to_anchor=(0.0, 1.0), handlelength=1, handletextpad=0.5, labelspacing=0.3, borderpad=0.3)"
   ]
  },
  {
   "cell_type": "markdown",
   "metadata": {},
   "source": [
    "## 7. Le calcul d'incertitudes, c'est chiant"
   ]
  },
  {
   "cell_type": "markdown",
   "metadata": {},
   "source": [
    "\n",
    "Alors laissons python le faire!\n",
    "\n",
    "Il y a une librairie qui s'appelle uncertainties (documentation: https://uncertainties.readthedocs.io/en/latest/) qui est vraiment pas mal (faut apprendre a s'en servir et faire attention avec certaines fonctions mais autrement c'est pas mal)\n",
    "\n",
    "(perso ça m'a fait trop chier d'essayer d'apprendre à l'utiliser pendant le semestre quand j'avais déjà mes propres habitudes. dcp il faut juste choisir soit de l'utiliser et faire un peu d'effort pour qu'après ça soit très très facile. soit give up and suffer comme moi – Lucia)"
   ]
  },
  {
   "cell_type": "code",
   "execution_count": 27,
   "metadata": {},
   "outputs": [],
   "source": [
    "import uncertainties as uc\n",
    "import uncertainties.unumpy as unp"
   ]
  },
  {
   "cell_type": "code",
   "execution_count": null,
   "metadata": {},
   "outputs": [],
   "source": [
    "# Une valeur avec incertitude\n",
    "a = uc.ufloat(42, 0.69)\n",
    "a"
   ]
  },
  {
   "cell_type": "code",
   "execution_count": null,
   "metadata": {},
   "outputs": [],
   "source": [
    "# récuperer sa valeur (nominal_value) et son incertitude (standard_deviation)\n",
    "a.n, a.s"
   ]
  },
  {
   "cell_type": "markdown",
   "metadata": {},
   "source": [
    "Toutes les operations fonctionnent toujours"
   ]
  },
  {
   "cell_type": "code",
   "execution_count": null,
   "metadata": {},
   "outputs": [],
   "source": [
    "print(a + 27)\n",
    "b = uc.ufloat(32, 2.6)\n",
    "print(a+b)\n",
    "print(a/b)\n",
    "# pour toutes les fonctions maths, utiliser unumpy.(...)\n",
    "print(unp.cos(a))\n",
    "print(unp.arctanh(b / 100))"
   ]
  },
  {
   "cell_type": "markdown",
   "metadata": {},
   "source": [
    "Formatter dans un string: https://uncertainties.readthedocs.io/en/latest/formatting.html"
   ]
  },
  {
   "cell_type": "code",
   "execution_count": null,
   "metadata": {},
   "outputs": [],
   "source": [
    "# 2 chiffres significatif\n",
    "print(f\"{a:.2u}\")\n",
    "\n",
    "# 1 chiffre significatif (1u), notation scientifique (e)\n",
    "print(f\"{a:.1ue}\")\n",
    "\n",
    "# avec formattage latex (pratique pour les legendes dans matplotlib!)\n",
    "print(f\"{a:.1ueL}\")\n",
    "\n",
    "# avec un formattage \"beau\"\n",
    "print(f\"{a:.1ueP}\")\n",
    "\n",
    "# forcer avec des parentheses autour (comme Iva le veut toujours!)\n",
    "print(f\"{a:.2up}\")"
   ]
  },
  {
   "cell_type": "markdown",
   "metadata": {},
   "source": [
    "Travailler avec des array de `ufloat`"
   ]
  },
  {
   "cell_type": "code",
   "execution_count": null,
   "metadata": {},
   "outputs": [],
   "source": [
    "# un array de valeur / erreur\n",
    "a = unp.uarray((0, 1, 2, 3, 4), (0.1, 0.2, 0.258, 0.5, 0.8))\n",
    "a"
   ]
  },
  {
   "cell_type": "code",
   "execution_count": null,
   "metadata": {},
   "outputs": [],
   "source": [
    "print(a + 42)\n",
    "b = np.copy(a) + uc.ufloat(42, 5.6) - 5\n",
    "print(a + b)\n",
    "print(unp.cos(a))"
   ]
  },
  {
   "cell_type": "markdown",
   "metadata": {},
   "source": [
    "Pour utiliser ces valeurs dans matplotlib ou scipy par exemple, il faut extraire les valeurs et incertitudes. C'est la partie la moins pratique, mais c'est le prix a payer"
   ]
  },
  {
   "cell_type": "code",
   "execution_count": null,
   "metadata": {},
   "outputs": [],
   "source": [
    "valeurs_a = unp.nominal_values(a)\n",
    "incertitudes_a = unp.std_devs(a)\n",
    "plt.errorbar(range(5), valeurs_a, incertitudes_a)"
   ]
  },
  {
   "cell_type": "markdown",
   "metadata": {},
   "source": [
    "Demonstration d'utilisation pour la partie 5.3."
   ]
  },
  {
   "cell_type": "code",
   "execution_count": null,
   "metadata": {},
   "outputs": [],
   "source": [
    "# On réutilse ce qui a deja été fait avant\n",
    "plt.scatter(fake_data_x, fake_data_y, marker='+')\n",
    "\n",
    "coefs, cov = sc.optimize.curve_fit(func_to_fit, fake_data_x, fake_data_y)\n",
    "coefs_error = unp.uarray(coefs, np.sqrt(np.diag(cov)))\n",
    "fitx = np.linspace(0, 10, 25)\n",
    "fity = func_to_fit(fitx, *coefs) \n",
    "\n",
    "# C'est plus court quand même\n",
    "plt.plot(\n",
    "    fitx, fity, 'k--',\n",
    "    label=r\"$y = {:.2upL} e^{{{:.1upL} x}} \\times \\\\ \\cos({:.1upL} x + {:.1upL})$\".format(*coefs_error)\n",
    ")\n",
    "plt.ylim(-5, 8.2)\n",
    "plt.legend(handlelength=1)"
   ]
  },
  {
   "cell_type": "markdown",
   "metadata": {},
   "source": [
    "---\n",
    "Made with ❤️ by\n",
    "- [@Lucia](https://github.com/pleasantenough): quasiment tout\n",
    "- [@Tom](https://github.com/TomVdt): revisions, exemples concrets, uncertainties"
   ]
  }
 ],
 "metadata": {
  "kernelspec": {
   "display_name": "Python 3",
   "language": "python",
   "name": "python3"
  },
  "language_info": {
   "codemirror_mode": {
    "name": "ipython",
    "version": 3
   },
   "file_extension": ".py",
   "mimetype": "text/x-python",
   "name": "python",
   "nbconvert_exporter": "python",
   "pygments_lexer": "ipython3",
   "version": "3.12.5"
  }
 },
 "nbformat": 4,
 "nbformat_minor": 2
}
