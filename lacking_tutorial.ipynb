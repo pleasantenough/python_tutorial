{
 "cells": [
  {
   "cell_type": "markdown",
   "metadata": {},
   "source": [
    "# Comment faire des graphiques pour Labo?"
   ]
  },
  {
   "cell_type": "markdown",
   "metadata": {},
   "source": [
    "Je crois que le but de ce notebook c'est principalement de comprendre que si t'essayes de trouver une manière de faire un truc en python, il y a probablement déjà une fonction qui fait exactement ce que tu veux faire. La documentation est ta meilleur amie.\n",
    "\n",
    "Si tu veux tu peux collapser chaque point en cliquant sur la flèche à côté de chaque titre de section. Comme ça c'est bcp plus facile de retrouver un truc plus tard.\n",
    "\n",
    "Attention! — pour que le tuto marche bien, il faut avoir le fichier avec les données dans le même dossier dans ton ordi que le fichier python du tuto"
   ]
  },
  {
   "cell_type": "markdown",
   "metadata": {},
   "source": [
    "## 1. Importer les libraries nécessaires"
   ]
  },
  {
   "cell_type": "code",
   "execution_count": 15,
   "metadata": {},
   "outputs": [],
   "source": [
    "import numpy as np # type: ignore # pour manipuler des np.array() (vecteurs)\n",
    "import matplotlib.pyplot as plt # type: ignore # pour pouvoir faire des graphiques"
   ]
  },
  {
   "cell_type": "markdown",
   "metadata": {},
   "source": [
    "## 2. Définir des paramètres"
   ]
  },
  {
   "cell_type": "markdown",
   "metadata": {},
   "source": [
    "c'est les paramètres généraux que matplotlib va utiliser pour les graphiques en output. c'est utile de les définir une fois. c'est le type de truc que je copie colle à chaque fois au début d'un fichier python (avec aussi l'import des libraries)"
   ]
  },
  {
   "cell_type": "code",
   "execution_count": 16,
   "metadata": {},
   "outputs": [],
   "source": [
    "plt.rcParams.update(\n",
    "    {\"text.usetex\" : True, # utiliser police latex, mais il faut installer latex pour que la commande marche, sinon tout le code crash\n",
    "                           # dcp si tu l'as pas enlève les deux premières lignes des configs ici pls\n",
    "     \"font.family\": \"serif\", # latex aussi\n",
    "     \"font.size\" : 15, # taille par défaut de la police\n",
    "     \"savefig.bbox\" : \"tight\", # quand tu sauvegardes les graphes à la fin ça assure que tu coupes pas des parties de l'image\n",
    "     \"legend.framealpha\" : 1, # légende opaque sur les graphes\n",
    "     \"axes.grid\" : 1} # met des quadrillages sur les graphes\n",
    "     )"
   ]
  },
  {
   "cell_type": "markdown",
   "metadata": {},
   "source": [
    "## 3. Load the data"
   ]
  },
  {
   "cell_type": "code",
   "execution_count": 17,
   "metadata": {},
   "outputs": [],
   "source": [
    "delimiter = ','\n",
    "n = 1\n",
    "\n",
    "data = np.loadtxt(\"data.csv\", delimiter=delimiter, skiprows=n) # np.loadtxt() met les données de \"data.csv\" dans une liste \"data\"\n",
    "# delimiter ça définit le truc qui sépare chaque info dans le fichier de données\n",
    "# skiprows définit le nombre de rangées à sauter qui ne sont pas des données\n",
    "\n",
    "# définir les axes\n",
    "x = data[:,0] # voir: manipulations de numpy arrays https://jakevdp.github.io/PythonDataScienceHandbook/02.02-the-basics-of-numpy-arrays.html\n",
    "y = data[:,1]\n",
    "# data[:,0] prend tous les élements dans la première colonne du array data qui a 2 dimensions"
   ]
  },
  {
   "cell_type": "markdown",
   "metadata": {},
   "source": [
    "## 4. Graph the data"
   ]
  },
  {
   "cell_type": "markdown",
   "metadata": {},
   "source": [
    "il y a des fonctions différentes pour créer des plots. la plus commune et la plus génerale est plt.plot()\n",
    "\n",
    "https://matplotlib.org/stable/api/_as_gen/matplotlib.pyplot.plot.html"
   ]
  },
  {
   "cell_type": "code",
   "execution_count": null,
   "metadata": {},
   "outputs": [],
   "source": [
    "plt.plot(x, y) # avec les configurations de défaut + les paramètres qu'on a définit au début"
   ]
  },
  {
   "cell_type": "markdown",
   "metadata": {},
   "source": [
    "tbh tu peux regarder la documentation pour plus de modifications de couleur etc. parce que vraiment the possibilities are endless. tu peux faire tout ce que tu veux. mais la taille des points c'est le plus important:"
   ]
  },
  {
   "cell_type": "code",
   "execution_count": null,
   "metadata": {},
   "outputs": [],
   "source": [
    "ms = 10 # change la taille des points\n",
    "plt.plot(x, y, '.', ms=ms, label='Data')\n",
    "plt.legend() # affiche la légende, documentation: https://matplotlib.org/stable/api/_as_gen/matplotlib.pyplot.legend.html"
   ]
  },
  {
   "cell_type": "markdown",
   "metadata": {},
   "source": [
    "J'AI OUBLIÉ DE LABEL MES AXES => IVA VA ME TUER"
   ]
  },
  {
   "cell_type": "code",
   "execution_count": null,
   "metadata": {},
   "outputs": [],
   "source": [
    "ms = 10 \n",
    "plt.plot(x, y, '.', ms=ms, label='Data')\n",
    "plt.legend()\n",
    "plt.xlabel('$x$ [x unité]') # grandeur en italiques, mais son unité non\n",
    "plt.ylabel('$y$ [y unité]')\n",
    "plt.savefig('image.pdf') # sauvegarde le graphe en pdf sous le nom \"image.pdf\"\n",
    "# c'est joli les pdfs parce que c'est jamais pixelé, mais tu peux remplacer le .pdf pour un .png aussi"
   ]
  },
  {
   "cell_type": "markdown",
   "metadata": {},
   "source": [
    "## 5. Analyse des données"
   ]
  },
  {
   "cell_type": "markdown",
   "metadata": {},
   "source": [
    "### 5.1. Faire un fit"
   ]
  },
  {
   "cell_type": "markdown",
   "metadata": {},
   "source": [
    "méthode la plus facile + commune -> np.polyfit() \n",
    "\n",
    "documentation: https://numpy.org/doc/stable/reference/generated/numpy.polyfit.html pour les détails"
   ]
  },
  {
   "cell_type": "code",
   "execution_count": null,
   "metadata": {},
   "outputs": [],
   "source": [
    "degree_of_fit = 1 # droite, 2 pour quadratique etc\n",
    "polynome_output, matrice_covariante = np.polyfit(x, y, deg=degree_of_fit, cov=True)\n",
    "\n",
    "# polynome_output contient [a,b] t.q. y = a*x+b pour data données en argument à la fonction\n",
    "a = polynome_output[0]\n",
    "b = polynome_output[1]\n",
    "\n",
    "# erreurs\n",
    "# les erreurs sur les coefficients sont sqrt(matrice_covariante[0,0]) et sqrt(matrice_covariante[1,1]) \n",
    "# dcp la diagonale à la racine carree\n",
    "# don't ask me why tbh, it's something that you'll see in data and proba stat mais j'ai pas trop écouté en cours\n",
    "\n",
    "da = np.sqrt(matrice_covariante[0][0])\n",
    "db = np.sqrt(matrice_covariante[1][1])\n",
    "\n",
    "print(a,da,b,db) # voilà ton fit"
   ]
  },
  {
   "cell_type": "markdown",
   "metadata": {},
   "source": [
    "pour plot le fit avec les données"
   ]
  },
  {
   "cell_type": "code",
   "execution_count": null,
   "metadata": {},
   "outputs": [],
   "source": [
    "# copié d'en haut\n",
    "ms = 10\n",
    "plt.plot(x, y, '.', ms=ms, label='Data')\n",
    "\n",
    "# plot le fit\n",
    "truc = np.linspace(x[0], x[-1], 10) # crée un array de 10 éléments distribués uniformément dans l'intervalle [x[0], x[-1]] \n",
    "                             # avec x[-1] le dernier élement de l'array x\n",
    "# cet array nous permet de plotter le fit en faisant\n",
    "plt.plot(truc, a*truc+b, 'r--', label='Fit') # en général on plotte le fit en pointillé et dans une couleur difƒérente\n",
    "# faut aussi écrire l'équation du fit en légende tout le temps\n",
    "\n",
    "plt.legend()\n",
    "plt.xlabel('$x$ [x unité]')\n",
    "plt.ylabel('$y$ [y unité]')"
   ]
  },
  {
   "cell_type": "markdown",
   "metadata": {},
   "source": [
    "tous les assistants on des opinions différentes sur les conventions d'écrire l'équation d'un fit. le plus safe c'est de faire ça\n"
   ]
  },
  {
   "cell_type": "code",
   "execution_count": null,
   "metadata": {},
   "outputs": [],
   "source": [
    "# sans latex, en vrai c'est moche sans latex, stp installe latex sur ton ordi --> https://www.latex-project.org/get/\n",
    "plt.plot(x, y, '.', label='Data')\n",
    "truc = np.linspace(x[0], x[-1], 10)\n",
    "plt.plot(truc, a*truc+b, 'r--', label='y = (a+-da)x+(b+-db)')\n",
    "plt.legend()\n",
    "plt.xlabel('$x$ [x unité]')\n",
    "plt.ylabel('$y$ [y unité]')"
   ]
  },
  {
   "cell_type": "code",
   "execution_count": null,
   "metadata": {},
   "outputs": [],
   "source": [
    "# avec latex\n",
    "plt.plot(x, y, '.', label='Data')\n",
    "truc = np.linspace(x[0], x[-1], 10)\n",
    "# en réalité il y a pas à définir le linspace dans chaque bulle, le jupyter notebook se rappelle des variables\n",
    "# faut juste pas nommer deux variables avec le meme nom\n",
    "# et s'assurer que la variable est définie avant son utilisation\n",
    "plt.plot(truc, a*truc+b, 'r--', label='$y = (a\\pm da)+(b \\pm db)$')\n",
    "plt.legend()\n",
    "plt.xlabel('$x$ [x unité]')\n",
    "plt.ylabel('$y$ [y unité]')"
   ]
  },
  {
   "cell_type": "markdown",
   "metadata": {},
   "source": [
    "(on va ignorer le fait que j'ai pas vraiment écrit les valeurs du fit parce que j'ai pas vraiment trouvé de manière d'optimiser l'arrondi des valeurs sans d'autres libraries et ça fuck tout et c'est un peu chiant de définir l'utilisation de la librarie uncertainties et c'est juste pas très important)\n",
    "\n",
    "(pendant tout le ba3 et ba4 j'ai juste passé ma vie a print les valeurs des coeffs et de leurs erreurs, et faire les arrondis dans ma tête. puis écrire les valeurs dans l'argument label de la fonction plt.plot correspondante)"
   ]
  },
  {
   "cell_type": "markdown",
   "metadata": {},
   "source": [
    "### 5.2. Plusieurs fits au même temps"
   ]
  },
  {
   "cell_type": "markdown",
   "metadata": {},
   "source": [
    "a bit self explanatory, mais c'est cool de le voir"
   ]
  },
  {
   "cell_type": "code",
   "execution_count": null,
   "metadata": {},
   "outputs": [],
   "source": [
    "degree_of_fit = 1\n",
    "polynome_output, matrice_covariante = np.polyfit(x[0:4], y[0:4], deg=degree_of_fit, cov=True) # partie linéaire\n",
    "polynome_output2, matrice_covariante2 = np.polyfit(x[4:-1], y[4:-1], deg=degree_of_fit, cov=True) # partie non linéaire dcp un peu con de faire un fit linéaire mais bon\n",
    "\n",
    "a = polynome_output[0]\n",
    "b = polynome_output[1]\n",
    "a2 = polynome_output2[0]\n",
    "b2 = polynome_output2[1]\n",
    "\n",
    "da = np.sqrt(matrice_covariante[0][0])\n",
    "db = np.sqrt(matrice_covariante[1][1])\n",
    "da2 = np.sqrt(matrice_covariante2[0][0])\n",
    "db2 = np.sqrt(matrice_covariante2[1][1])\n",
    "\n",
    "truc = np.linspace(x[0], x[4], 10)\n",
    "truc2 = np.linspace(x[4], x[-1], 10)\n",
    "\n",
    "plt.plot(x, y, '.', ms=15, label=\"Data\")\n",
    "plt.plot(truc, a*truc+b, 'r--', label='Fit sur la partie linéaire')\n",
    "plt.plot(truc2, a2*truc2+b2, 'g--', label='Fit sur la partie non-linéaire')\n",
    "plt.legend()\n",
    "plt.xlabel('$x$ [x unité]')\n",
    "plt.ylabel('$y$ [y unité]')"
   ]
  },
  {
   "cell_type": "markdown",
   "metadata": {},
   "source": [
    "### 5.3. Barres d'erreur (!!!! Important !!!!)"
   ]
  },
  {
   "cell_type": "markdown",
   "metadata": {},
   "source": [
    "documentation: https://matplotlib.org/stable/api/_as_gen/matplotlib.pyplot.errorbar.html\n",
    "\n",
    "Pour les premiers petits tps je crois qu'ils s'en foutent si tu fais des barres d'erreur, mais si t'as une erreur connue tu dois la mettre. sauf si elle est pas visible ou si tu veux si elle est constante. Sauf si c'est chiant, c'est cool de mettre les barres si elles sont visibles, juste parce que it shows that you care.\n",
    "\n",
    "Sinon, la phrase typique dans les rapports c'est aussi de dire *\"Les erreurs sur les données étaient constantes à 0.12. Donc, elles ne figurent pas sur le graphique.\"* OU *\"Les barres d'erreur sur les données ne sont pas visibles. Donc, elles ne figurent pas sur les graphiques.\"*"
   ]
  },
  {
   "cell_type": "code",
   "execution_count": null,
   "metadata": {},
   "outputs": [],
   "source": [
    "# fit\n",
    "degree_of_fit = 1\n",
    "polynome_output, matrice_covariante = np.polyfit(x, y, deg=degree_of_fit, cov=True)\n",
    "a = polynome_output[0]\n",
    "b = polynome_output[1]\n",
    "da = np.sqrt(matrice_covariante[0][0])\n",
    "db = np.sqrt(matrice_covariante[1][1])\n",
    "\n",
    "# erreurs\n",
    "erreur_x = 0.2 # par exemple\n",
    "erreur_y = 0.5\n",
    "dx = erreur_x*np.ones_like(x) # défini un array de la même taille que x avec des 1s dans chaque position, \n",
    "                              # et après on multiplie par la valeur de l'erreur\n",
    "dy = erreur_y*np.ones_like(y) # idem\n",
    "\n",
    "# plot \n",
    "plt.errorbar(x, y, dy, dx, '+', capsize=3, ms=15, mew=2, label='Data') # capsize controle la taille des petites barres au bouts\n",
    "# ordre d'arguments un peu fucked mais oui c'est plt.errorbar(x, y, erreur de y, erreur de x, ...)\n",
    "truc = np.linspace(x[0], x[-1], 10)\n",
    "plt.plot(truc, a*truc+b, 'r--', label='$y = (a\\pm da)+(b \\pm db)$')\n",
    "plt.legend()\n",
    "plt.xlabel('$x$ [x unité]')\n",
    "plt.ylabel('$y$ [y unité]')\n"
   ]
  },
  {
   "cell_type": "markdown",
   "metadata": {},
   "source": [
    "pour les erreurs qui varient"
   ]
  },
  {
   "cell_type": "code",
   "execution_count": null,
   "metadata": {},
   "outputs": [],
   "source": [
    "# fit\n",
    "degree_of_fit = 1\n",
    "polynome_output, matrice_covariante = np.polyfit(x, y, deg=degree_of_fit, cov=True)\n",
    "a = polynome_output[0]\n",
    "b = polynome_output[1]\n",
    "da = np.sqrt(matrice_covariante[0][0])\n",
    "db = np.sqrt(matrice_covariante[1][1])\n",
    "\n",
    "# erreurs\n",
    "erreur_relative_x = 0.1 # par exemple\n",
    "erreur_relative_y = 0.1\n",
    "dx = erreur_x*np.ones_like(x)*x\n",
    "dy = erreur_y*np.ones_like(y)*y\n",
    "\n",
    "# plot\n",
    "plt.errorbar(x, y, dy, dx, '+', capsize=3, ms=15, mew=2, label='Data')\n",
    "truc = np.linspace(x[0], x[-1], 10)\n",
    "plt.plot(truc, a*truc+b, 'r--', label='$y = (a\\pm da)+(b \\pm db)$')\n",
    "plt.legend()\n",
    "plt.xlabel('$x$ [x unité]')\n",
    "plt.ylabel('$y$ [y unité]')\n"
   ]
  },
  {
   "cell_type": "markdown",
   "metadata": {},
   "source": [
    "mdr c'est un peu extreme les dernières barres d'erreurs, si t'as qqch comme ça c'est euhh inquietant. mais tkt demande à d'autres personnes qui ont déjà fait le tp ou envoie un mail à l'assistant. peut etre que c'est normal (probablement pas mdr)"
   ]
  },
  {
   "cell_type": "markdown",
   "metadata": {},
   "source": [
    "## 6. Fonctions intéressantes"
   ]
  },
  {
   "cell_type": "markdown",
   "metadata": {},
   "source": [
    "### 6.1. Graphiques"
   ]
  },
  {
   "cell_type": "markdown",
   "metadata": {},
   "source": [
    "#### 6.1.1. Limites des axes\n",
    "documentation: https://matplotlib.org/stable/api/_as_gen/matplotlib.pyplot.xlim.html\n",
    "\n",
    "plt.xlim(), plt.ylim()\n",
    "\n",
    "controller où tu veux couper le graphique, dcp si tu veux que montrer jusqu'à 5m dans l'échelle de l'axe x tu fais:   plt.xlim(0,5)"
   ]
  },
  {
   "cell_type": "markdown",
   "metadata": {},
   "source": [
    "#### 6.1.2. Tracer des droites facilement\n",
    "documentation hlines (horizontal): https://matplotlib.org/stable/api/_as_gen/matplotlib.pyplot.hlines.html\n",
    "\n",
    "documentation vlines (vertical): https://matplotlib.org/stable/api/_as_gen/matplotlib.pyplot.vlines.html"
   ]
  },
  {
   "cell_type": "markdown",
   "metadata": {},
   "source": [
    "#### 6.1.3. Scientific format for axis\n",
    "\n",
    "documentation: https://matplotlib.org/stable/api/_as_gen/matplotlib.axes.Axes.ticklabel_format.html\n",
    "\n",
    "plt.ticklabel_format(axis='y', style='sci', scilimits=(0,0)) --> puts y axis ticks in scientific format"
   ]
  },
  {
   "cell_type": "markdown",
   "metadata": {},
   "source": [
    "#### 6.1.4. Comment trouver un point graphiquement? petit tuto\n",
    "\n",
    "En mettant une couleur différente pour une partie limité des points, on peut trouver l'indice du vector d'un certain point.\n",
    "\n",
    "C'est particulièrement utile si t'essayes de trouver l'indice d'un point pour une certaine valeur et t'as des centaines de points."
   ]
  },
  {
   "cell_type": "code",
   "execution_count": null,
   "metadata": {},
   "outputs": [],
   "source": [
    "ms = 12\n",
    "n = 6 # change ça à 4 ou 9 par exemple, pour voir ce que je veux dire\n",
    "plt.plot(x, y, '.', ms=ms)\n",
    "plt.plot(x[:n], y[:n], 'r.', ms=ms) "
   ]
  }
 ],
 "metadata": {
  "kernelspec": {
   "display_name": "Python 3",
   "language": "python",
   "name": "python3"
  },
  "language_info": {
   "codemirror_mode": {
    "name": "ipython",
    "version": 3
   },
   "file_extension": ".py",
   "mimetype": "text/x-python",
   "name": "python",
   "nbconvert_exporter": "python",
   "pygments_lexer": "ipython3",
   "version": "3.9.6"
  }
 },
 "nbformat": 4,
 "nbformat_minor": 2
}
